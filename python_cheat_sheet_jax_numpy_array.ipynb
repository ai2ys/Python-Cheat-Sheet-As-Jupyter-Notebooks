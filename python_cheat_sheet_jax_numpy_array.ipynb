{
  "nbformat": 4,
  "nbformat_minor": 0,
  "metadata": {
    "colab": {
      "name": "python-cheat-sheet-numpy-array.ipynb",
      "provenance": [],
      "toc_visible": true,
      "authorship_tag": "ABX9TyMC/hqcuHpz7vvKecujWRbt",
      "include_colab_link": true
    },
    "kernelspec": {
      "name": "python3",
      "display_name": "Python 3"
    },
    "language_info": {
      "name": "python"
    },
    "accelerator": "GPU",
    "gpuClass": "standard"
  },
  "cells": [
    {
      "cell_type": "markdown",
      "metadata": {
        "id": "view-in-github",
        "colab_type": "text"
      },
      "source": [
        "<a href=\"https://colab.research.google.com/github/ai2ys/Python-Cheat-Sheet-As-Jupyter-Notebooks/blob/master/python_cheat_sheet_jax_numpy_array.ipynb\" target=\"_parent\"><img src=\"https://colab.research.google.com/assets/colab-badge.svg\" alt=\"Open In Colab\"/></a>"
      ]
    },
    {
      "cell_type": "markdown",
      "source": [
        "# JAX Cheat Sheet - JAX NumPy Array\n",
        "\n",
        "This is my 'cheat sheet' for creating and handling arrays using JAX Numpy API. Topics are\n"
      ],
      "metadata": {
        "id": "I1yrmfrL8ZiS"
      }
    },
    {
      "cell_type": "code",
      "source": [
        "import jax\n",
        "import jax.numpy as jnp\n",
        "jax.__version__"
      ],
      "metadata": {
        "colab": {
          "base_uri": "https://localhost:8080/",
          "height": 35
        },
        "id": "1yAqmvkT8cNb",
        "outputId": "961bf34e-b1be-40d5-ff38-fa58955e558a"
      },
      "execution_count": 1,
      "outputs": [
        {
          "output_type": "execute_result",
          "data": {
            "text/plain": [
              "'0.4.4'"
            ],
            "application/vnd.google.colaboratory.intrinsic+json": {
              "type": "string"
            }
          },
          "metadata": {},
          "execution_count": 1
        }
      ]
    },
    {
      "cell_type": "markdown",
      "source": [
        "## Array creation routines\n",
        "The following link gives an overview available functions including array creation routines such as `zeros`, `ones`, and `empty`.\n",
        "\n",
        "https://jax.readthedocs.io/en/latest/jax.numpy.html"
      ],
      "metadata": {
        "id": "CLQKO8yi9IWX"
      }
    },
    {
      "cell_type": "markdown",
      "source": [
        "### Create an array of zeros, ones, or an empty array\n",
        "- `jnp.zeros`\n",
        "- `jnp.ones`\n",
        "- `jnp.empty` ➡ in plain NumPy this this routine is much faster than `ones` and `zeros`, here it is not.\n",
        "\n",
        "Array creation in JAX will not be faster using `empty`, because XLA cannot create unitialized arrays.\n",
        "\n",
        "https://jax.readthedocs.io/en/latest/_autosummary/jax.numpy.empty.html#jax.numpy.empty"
      ],
      "metadata": {
        "id": "WFANKrEp9MIZ"
      }
    },
    {
      "cell_type": "code",
      "source": [
        "rows = 2000\n",
        "columns = 3000"
      ],
      "metadata": {
        "id": "HNediMyg9cJb"
      },
      "execution_count": 2,
      "outputs": []
    },
    {
      "cell_type": "markdown",
      "source": [
        "Using `jnp.empty`"
      ],
      "metadata": {
        "id": "jOLfy7Uq8IVR"
      }
    },
    {
      "cell_type": "code",
      "source": [
        "%time array_empty = jnp.empty((rows, columns))\n",
        "print('shape', array_empty.shape)"
      ],
      "metadata": {
        "colab": {
          "base_uri": "https://localhost:8080/"
        },
        "id": "e2sLvwZ08gs7",
        "outputId": "8e69d179-8614-40b8-ee5f-2de2eb4632d2"
      },
      "execution_count": 3,
      "outputs": [
        {
          "output_type": "stream",
          "name": "stdout",
          "text": [
            "CPU times: user 809 ms, sys: 1.17 s, total: 1.98 s\n",
            "Wall time: 2.82 s\n",
            "shape (2000, 3000)\n"
          ]
        }
      ]
    },
    {
      "cell_type": "markdown",
      "source": [
        "Using `jnp.zeros`"
      ],
      "metadata": {
        "id": "nunFLqov8MVN"
      }
    },
    {
      "cell_type": "code",
      "source": [
        "%time array_zeros = jnp.zeros((rows, columns))\n",
        "print('shape', array_zeros.shape)"
      ],
      "metadata": {
        "colab": {
          "base_uri": "https://localhost:8080/"
        },
        "id": "Gc7lsa5l9bnr",
        "outputId": "46a798a1-d6a2-4734-885a-c90f8f449c45"
      },
      "execution_count": 4,
      "outputs": [
        {
          "output_type": "stream",
          "name": "stdout",
          "text": [
            "CPU times: user 1.47 ms, sys: 0 ns, total: 1.47 ms\n",
            "Wall time: 2.06 ms\n",
            "shape (2000, 3000)\n"
          ]
        }
      ]
    },
    {
      "cell_type": "markdown",
      "source": [
        "Using `jnp.ones`"
      ],
      "metadata": {
        "id": "tReUvAsE8Pfo"
      }
    },
    {
      "cell_type": "code",
      "source": [
        "%time array_ones = jnp.ones((rows, columns))\n",
        "print('shape', array_ones.shape)"
      ],
      "metadata": {
        "colab": {
          "base_uri": "https://localhost:8080/"
        },
        "id": "hBZvSeT39fva",
        "outputId": "c629bc4b-3041-45de-ee51-0fe890368246"
      },
      "execution_count": 5,
      "outputs": [
        {
          "output_type": "stream",
          "name": "stdout",
          "text": [
            "CPU times: user 2.11 ms, sys: 46 µs, total: 2.16 ms\n",
            "Wall time: 1.92 ms\n",
            "shape (2000, 3000)\n"
          ]
        }
      ]
    },
    {
      "cell_type": "markdown",
      "source": [
        "### Create a 1D array of equally spaced numbers\n",
        "\n",
        "- `jax.numpy.arange`<br>https://jax.readthedocs.io/en/latest/_autosummary/jax.numpy.arange.html\n",
        "- `jax.numpy.linspace`<br>https://jax.readthedocs.io/en/latest/_autosummary/jax.numpy.linspace.html\n",
        "\n",
        "Create an array with integers from `0` to `9` using `jnp.arange(10)`. Keep in mind that the stop value (here: `10`) is not included."
      ],
      "metadata": {
        "id": "UAMYJUg194XA"
      }
    },
    {
      "cell_type": "markdown",
      "source": [],
      "metadata": {
        "id": "5N5h6C0KCa34"
      }
    },
    {
      "cell_type": "markdown",
      "source": [
        "Using `jnp.arrange(10)` will create an array containing all integer values from `0` to `9`. Without specifying explicitly the start value will be `0` and the step size will be `1`. "
      ],
      "metadata": {
        "id": "YS1HRZCg87gP"
      }
    },
    {
      "cell_type": "code",
      "source": [
        "jnp.arange(10)"
      ],
      "metadata": {
        "colab": {
          "base_uri": "https://localhost:8080/"
        },
        "id": "ACTXUrKn9r4j",
        "outputId": "9d9441c5-b8b6-40cd-9421-64887bd86d29"
      },
      "execution_count": 6,
      "outputs": [
        {
          "output_type": "execute_result",
          "data": {
            "text/plain": [
              "Array([0, 1, 2, 3, 4, 5, 6, 7, 8, 9], dtype=int32)"
            ]
          },
          "metadata": {},
          "execution_count": 6
        }
      ]
    },
    {
      "cell_type": "markdown",
      "source": [
        "Create an array with a specified start, stop, and step size. As mentioned previously the stop value is not included."
      ],
      "metadata": {
        "id": "yHYePPuP-SYT"
      }
    },
    {
      "cell_type": "code",
      "source": [
        "jnp.arange(start=5, stop=30, step=5)"
      ],
      "metadata": {
        "colab": {
          "base_uri": "https://localhost:8080/"
        },
        "id": "5qxCIvH5-RG5",
        "outputId": "2693e847-4dd8-4b7a-d60f-dda9cf4f556b"
      },
      "execution_count": 7,
      "outputs": [
        {
          "output_type": "execute_result",
          "data": {
            "text/plain": [
              "Array([ 5, 10, 15, 20, 25], dtype=int32)"
            ]
          },
          "metadata": {},
          "execution_count": 7
        }
      ]
    },
    {
      "cell_type": "markdown",
      "source": [
        "Here an example with an non-integer step size. The NumPy documentation recommends to use `linspace` instead of `arrange` with non-integer step sizes."
      ],
      "metadata": {
        "id": "SyVYB05H-Wge"
      }
    },
    {
      "cell_type": "markdown",
      "source": [],
      "metadata": {
        "id": "EKvXJPU3ChWv"
      }
    },
    {
      "cell_type": "code",
      "source": [
        "jnp.arange(start=0, stop=1, step=0.1, dtype=float)"
      ],
      "metadata": {
        "colab": {
          "base_uri": "https://localhost:8080/"
        },
        "id": "ttENZVda-OFV",
        "outputId": "9c121048-7ae3-417c-cb36-16b82eaa15e3"
      },
      "execution_count": 8,
      "outputs": [
        {
          "output_type": "execute_result",
          "data": {
            "text/plain": [
              "Array([0. , 0.1, 0.2, 0.3, 0.4, 0.5, 0.6, 0.7, 0.8, 0.9], dtype=float32)"
            ]
          },
          "metadata": {},
          "execution_count": 8
        }
      ]
    },
    {
      "cell_type": "markdown",
      "source": [
        "In contrast to `jnp.arange` the method `jnp.linspace` offeres the option to include or exclude the endpoint. But keep in mind that you have to adjust the parameters to get the same spacing."
      ],
      "metadata": {
        "id": "DmDtmB_N-pDZ"
      }
    },
    {
      "cell_type": "code",
      "source": [
        "start = 0\n",
        "num = 10"
      ],
      "metadata": {
        "id": "Jsb8ESEM_Sk2"
      },
      "execution_count": 9,
      "outputs": []
    },
    {
      "cell_type": "code",
      "source": [
        "jnp.linspace(start=start, stop=1, endpoint=False, num=num)"
      ],
      "metadata": {
        "id": "Yjttqjao_WdR",
        "outputId": "8fe19fa0-0504-4669-d946-98a9071fc669",
        "colab": {
          "base_uri": "https://localhost:8080/"
        }
      },
      "execution_count": 10,
      "outputs": [
        {
          "output_type": "execute_result",
          "data": {
            "text/plain": [
              "Array([0.        , 0.1       , 0.2       , 0.3       , 0.4       ,\n",
              "       0.5       , 0.6       , 0.7       , 0.8       , 0.90000004],      dtype=float32)"
            ]
          },
          "metadata": {},
          "execution_count": 10
        }
      ]
    },
    {
      "cell_type": "code",
      "source": [
        "jnp.linspace(start=start, stop=0.9, endpoint=True, num=num)"
      ],
      "metadata": {
        "id": "b1jbiiMQ_ZkW",
        "outputId": "17f85b33-33ea-4b9c-9ee4-dfac8e09f04d",
        "colab": {
          "base_uri": "https://localhost:8080/"
        }
      },
      "execution_count": 11,
      "outputs": [
        {
          "output_type": "execute_result",
          "data": {
            "text/plain": [
              "Array([0. , 0.1, 0.2, 0.3, 0.4, 0.5, 0.6, 0.7, 0.8, 0.9], dtype=float32)"
            ]
          },
          "metadata": {},
          "execution_count": 11
        }
      ]
    },
    {
      "cell_type": "code",
      "source": [
        "jnp.linspace(start=start, stop=1, endpoint=True , num=num)"
      ],
      "metadata": {
        "id": "5UDGs1Wm_d_5",
        "outputId": "5c1aae34-060b-4725-cef4-825b9ebac093",
        "colab": {
          "base_uri": "https://localhost:8080/"
        }
      },
      "execution_count": 12,
      "outputs": [
        {
          "output_type": "execute_result",
          "data": {
            "text/plain": [
              "Array([0.        , 0.11111111, 0.22222222, 0.33333334, 0.44444445,\n",
              "       0.5555556 , 0.6666667 , 0.7777778 , 0.8888889 , 1.        ],      dtype=float32)"
            ]
          },
          "metadata": {},
          "execution_count": 12
        }
      ]
    },
    {
      "cell_type": "markdown",
      "source": [
        "## Selecting array elements, crop and subsample arrays\n",
        "Crops can be extracted from arrays and they can be subsampled as well. Here an example for subsampling an array.\n",
        "\n",
        "Indices in Python are zero-based and the `stop`-index value will not be included.\n",
        "- `array[index]` &rarr; accessing an array element by its index\n",
        "- `array[start:stop]` &rarr; extracting a slice of the array containing all values from index `start` to `stop-1`\n",
        "- `array[start:stop:step]` &rarr; extracting a slice of the array containing only n-th value defined by the `step`-size."
      ],
      "metadata": {
        "id": "2SLHLKHp-11W"
      }
    },
    {
      "cell_type": "code",
      "source": [
        "data_1D = jnp.arange(101)\n",
        "data_1D"
      ],
      "metadata": {
        "id": "rUcAsv21BvrG",
        "outputId": "7938ccd9-6115-4a4d-d8a5-a2ebb40edfb5",
        "colab": {
          "base_uri": "https://localhost:8080/"
        }
      },
      "execution_count": 13,
      "outputs": [
        {
          "output_type": "execute_result",
          "data": {
            "text/plain": [
              "Array([  0,   1,   2,   3,   4,   5,   6,   7,   8,   9,  10,  11,  12,\n",
              "        13,  14,  15,  16,  17,  18,  19,  20,  21,  22,  23,  24,  25,\n",
              "        26,  27,  28,  29,  30,  31,  32,  33,  34,  35,  36,  37,  38,\n",
              "        39,  40,  41,  42,  43,  44,  45,  46,  47,  48,  49,  50,  51,\n",
              "        52,  53,  54,  55,  56,  57,  58,  59,  60,  61,  62,  63,  64,\n",
              "        65,  66,  67,  68,  69,  70,  71,  72,  73,  74,  75,  76,  77,\n",
              "        78,  79,  80,  81,  82,  83,  84,  85,  86,  87,  88,  89,  90,\n",
              "        91,  92,  93,  94,  95,  96,  97,  98,  99, 100], dtype=int32)"
            ]
          },
          "metadata": {},
          "execution_count": 13
        }
      ]
    },
    {
      "cell_type": "markdown",
      "source": [
        "Explicitly defining the `start` and `end`. Both could be ommitted, because `start=0` and `end=101` are the first and last index. "
      ],
      "metadata": {
        "id": "C2YDI805C_XP"
      }
    },
    {
      "cell_type": "code",
      "source": [
        "# start=0, end=101, step=10\n",
        "data_1D[0:101:10]"
      ],
      "metadata": {
        "id": "UMdD3U9TCFB7",
        "outputId": "a90c52fb-7a59-4150-8bca-4b216b2c0a4c",
        "colab": {
          "base_uri": "https://localhost:8080/"
        }
      },
      "execution_count": 14,
      "outputs": [
        {
          "output_type": "execute_result",
          "data": {
            "text/plain": [
              "Array([  0,  10,  20,  30,  40,  50,  60,  70,  80,  90, 100], dtype=int32)"
            ]
          },
          "metadata": {},
          "execution_count": 14
        }
      ]
    },
    {
      "cell_type": "markdown",
      "source": [
        "Ommitting the values for `start` and `end` as all values from start to end will be selected."
      ],
      "metadata": {
        "id": "3uDUnpJjDXC1"
      }
    },
    {
      "cell_type": "code",
      "source": [
        "# step=10\n",
        "data_1D[::10]"
      ],
      "metadata": {
        "id": "CcGuXlAkByme",
        "outputId": "cf9a7186-3ca7-4b31-fa2c-882b70457cef",
        "colab": {
          "base_uri": "https://localhost:8080/"
        }
      },
      "execution_count": 15,
      "outputs": [
        {
          "output_type": "execute_result",
          "data": {
            "text/plain": [
              "Array([  0,  10,  20,  30,  40,  50,  60,  70,  80,  90, 100], dtype=int32)"
            ]
          },
          "metadata": {},
          "execution_count": 15
        }
      ]
    },
    {
      "cell_type": "markdown",
      "source": [
        "Example for creating a crop. Have in mind that the endpoint will not be included."
      ],
      "metadata": {
        "id": "_3FneTQW_Fqt"
      }
    },
    {
      "cell_type": "code",
      "source": [
        "start = 12\n",
        "end = 50\n",
        "data_1D = jnp.arange(101)\n",
        "data_1D[start:end]"
      ],
      "metadata": {
        "colab": {
          "base_uri": "https://localhost:8080/"
        },
        "id": "39a8e2iB_Er0",
        "outputId": "da0b59b3-77ff-48a3-b778-57d357f8a38f"
      },
      "execution_count": 16,
      "outputs": [
        {
          "output_type": "execute_result",
          "data": {
            "text/plain": [
              "Array([12, 13, 14, 15, 16, 17, 18, 19, 20, 21, 22, 23, 24, 25, 26, 27, 28,\n",
              "       29, 30, 31, 32, 33, 34, 35, 36, 37, 38, 39, 40, 41, 42, 43, 44, 45,\n",
              "       46, 47, 48, 49], dtype=int32)"
            ]
          },
          "metadata": {},
          "execution_count": 16
        }
      ]
    },
    {
      "cell_type": "markdown",
      "source": [
        "### Selecting values using negative indices\n",
        "Using index `-1` will select the last element in the array. Using index `-2` will select the penultimate element and so on."
      ],
      "metadata": {
        "id": "q-dHdbNI_Mhg"
      }
    },
    {
      "cell_type": "code",
      "source": [
        "data_1D = jnp.arange(10)\n",
        "print(data_1D)\n",
        "print(f\"index -1: {data_1D[-1]} - last element\")\n",
        "print(f\"index -2: {data_1D[-2]} - penultimate element\")"
      ],
      "metadata": {
        "colab": {
          "base_uri": "https://localhost:8080/"
        },
        "id": "yOAqRnAC_J_B",
        "outputId": "5587f3c9-1ecf-4ff9-8738-02c111c2ebe2"
      },
      "execution_count": 17,
      "outputs": [
        {
          "output_type": "stream",
          "name": "stdout",
          "text": [
            "[0 1 2 3 4 5 6 7 8 9]\n",
            "index -1: 9 - last element\n",
            "index -2: 8 - penultimate element\n"
          ]
        }
      ]
    },
    {
      "cell_type": "markdown",
      "source": [
        "But have in mind that **using the index `-1` as `end`-point** in order to crop a portion of the source array will **exclude the last element** of the source array."
      ],
      "metadata": {
        "id": "dUZqsShR_VzO"
      }
    },
    {
      "cell_type": "code",
      "source": [
        "data_1D[0:-1]"
      ],
      "metadata": {
        "colab": {
          "base_uri": "https://localhost:8080/"
        },
        "id": "eao8vJn1_TKz",
        "outputId": "f0e45222-bd79-40f1-fbfa-ad4fe9ebf742"
      },
      "execution_count": 18,
      "outputs": [
        {
          "output_type": "execute_result",
          "data": {
            "text/plain": [
              "Array([0, 1, 2, 3, 4, 5, 6, 7, 8], dtype=int32)"
            ]
          },
          "metadata": {},
          "execution_count": 18
        }
      ]
    },
    {
      "cell_type": "markdown",
      "source": [
        "The zero as startpoint can be ommitted."
      ],
      "metadata": {
        "id": "nLmhN1p6_bVm"
      }
    },
    {
      "cell_type": "code",
      "source": [
        "data_1D[:-1]"
      ],
      "metadata": {
        "colab": {
          "base_uri": "https://localhost:8080/"
        },
        "id": "dlxkkMNX_aqB",
        "outputId": "66c86d2a-1a98-4729-ca34-388020bee889"
      },
      "execution_count": 19,
      "outputs": [
        {
          "output_type": "execute_result",
          "data": {
            "text/plain": [
              "Array([0, 1, 2, 3, 4, 5, 6, 7, 8], dtype=int32)"
            ]
          },
          "metadata": {},
          "execution_count": 19
        }
      ]
    },
    {
      "cell_type": "markdown",
      "source": [
        "In order to extract a subset including the last value of the array, the `end`-point has to be defined explicitly or ommitting it."
      ],
      "metadata": {
        "id": "CgUBfhjYHD08"
      }
    },
    {
      "cell_type": "code",
      "source": [
        "# ommiting the end point to extract including the last value\n",
        "data_1D[5:]"
      ],
      "metadata": {
        "id": "CtQZB3JVHQ6W",
        "outputId": "ad836f28-d1c8-4279-d394-4cb7d18f0ff9",
        "colab": {
          "base_uri": "https://localhost:8080/"
        }
      },
      "execution_count": 20,
      "outputs": [
        {
          "output_type": "execute_result",
          "data": {
            "text/plain": [
              "Array([5, 6, 7, 8, 9], dtype=int32)"
            ]
          },
          "metadata": {},
          "execution_count": 20
        }
      ]
    },
    {
      "cell_type": "code",
      "source": [
        "# explicitily setting the end point to extract including the last value\n",
        "data_1D[5:10]"
      ],
      "metadata": {
        "id": "Mrq5fZPmHZjP",
        "outputId": "1a1f6da9-2d39-46d7-e4ab-fbf162b99755",
        "colab": {
          "base_uri": "https://localhost:8080/"
        }
      },
      "execution_count": 21,
      "outputs": [
        {
          "output_type": "execute_result",
          "data": {
            "text/plain": [
              "Array([5, 6, 7, 8, 9], dtype=int32)"
            ]
          },
          "metadata": {},
          "execution_count": 21
        }
      ]
    },
    {
      "cell_type": "markdown",
      "source": [
        "### Modifying single array values\n",
        "\n",
        "In NumPy it is possible access and modify array values using indices like the following:\n"
      ],
      "metadata": {
        "id": "w-ZAXlVP-b0c"
      }
    },
    {
      "cell_type": "code",
      "source": [
        "import numpy as np\n",
        "array_a = np.array([0,1,2,3,4])\n",
        "print(f'array_a: {array_a}')\n",
        "array_a[1:3] = -1\n",
        "print(f'array_a: {array_a}')"
      ],
      "metadata": {
        "id": "FP1kjjxqBF54",
        "outputId": "1c4e7a73-03a1-42b7-c785-9fe65ee9b9f0",
        "colab": {
          "base_uri": "https://localhost:8080/"
        }
      },
      "execution_count": 22,
      "outputs": [
        {
          "output_type": "stream",
          "name": "stdout",
          "text": [
            "array_a: [0 1 2 3 4]\n",
            "array_a: [ 0 -1 -1  3  4]\n"
          ]
        }
      ]
    },
    {
      "cell_type": "markdown",
      "source": [
        "Jax does not support item assignment like it is done in NumPy, but the same result can be achieved using the helper `at` the following:\n"
      ],
      "metadata": {
        "id": "xZVHfPi2BauO"
      }
    },
    {
      "cell_type": "code",
      "source": [
        "array_a = jnp.array([0,1,2,3,4])\n",
        "print(f'array_a: {array_a}')\n",
        "array_a = array_a.at[1:3].set(-1)\n",
        "print(f'array_a: {array_a}')"
      ],
      "metadata": {
        "id": "dAvimCX0BXDj",
        "outputId": "c1e2b2a4-22b4-4ffb-85aa-51cb68d5be56",
        "colab": {
          "base_uri": "https://localhost:8080/"
        }
      },
      "execution_count": 23,
      "outputs": [
        {
          "output_type": "stream",
          "name": "stdout",
          "text": [
            "array_a: [0 1 2 3 4]\n",
            "array_a: [ 0 -1 -1  3  4]\n"
          ]
        }
      ]
    },
    {
      "cell_type": "markdown",
      "source": [
        "For more information about the usage of the helper property `at` checkout:\n",
        "\n",
        "https://jax.readthedocs.io/en/latest/_autosummary/jax.numpy.ndarray.at.html#jax.numpy.ndarray.at"
      ],
      "metadata": {
        "id": "OKPLBcT7CEws"
      }
    },
    {
      "cell_type": "markdown",
      "source": [
        "## Array multiplications\n",
        "Types of multiplications\n",
        "\n",
        "- Scalar product of matrix `A` with scalar `b`<br>\n",
        "$A \\cdot b$<br>\n",
        "```python\n",
        "# Python\n",
        "A * b\n",
        "# in case b is a scalar, equivalent with\n",
        "jnp.multiply(A, b)\n",
        "```\n",
        "\n",
        "- Hadamard product or element-wise product of two matrices `A` and `B`<br>\n",
        "$A \\circ B = A \\odot B$<br>\n",
        "```python\n",
        "# Python\n",
        "A * B\n",
        "# equivalent with\n",
        "jnp.multiply(A, B)\n",
        "```\n",
        "\n",
        "- Dot product of two matrices `A` and `B`<br>\n",
        "$A \\cdot B$\n",
        "```python\n",
        "# Python\n",
        "A.dot(B) \n",
        "# equivalent with\n",
        "jnp.dot(A, B)\n",
        "# equivalent with\n",
        "A @ B \n",
        "```"
      ],
      "metadata": {
        "id": "zzAGYpPh_gfT"
      }
    },
    {
      "cell_type": "code",
      "source": [
        "array_a = jnp.arange(start=0,stop=4)\n",
        "array_b = jnp.arange(start=2,stop=6)\n",
        "scalar=3\n",
        "print(f'array_a: {array_a}')\n",
        "print(f'array_b: {array_b}')\n",
        "print(f'scalar: {scalar}')"
      ],
      "metadata": {
        "colab": {
          "base_uri": "https://localhost:8080/"
        },
        "id": "9T2TvkBg_fwQ",
        "outputId": "9a59fe17-db7b-456a-f06f-2313d943976f"
      },
      "execution_count": 24,
      "outputs": [
        {
          "output_type": "stream",
          "name": "stdout",
          "text": [
            "array_a: [0 1 2 3]\n",
            "array_b: [2 3 4 5]\n",
            "scalar: 3\n"
          ]
        }
      ]
    },
    {
      "cell_type": "code",
      "source": [
        "# scalar multiplication\n",
        "array_a * scalar"
      ],
      "metadata": {
        "colab": {
          "base_uri": "https://localhost:8080/"
        },
        "id": "OC9PeYOc_6Ba",
        "outputId": "e5868173-3b32-4f46-9afd-3edce8c3b446"
      },
      "execution_count": 25,
      "outputs": [
        {
          "output_type": "execute_result",
          "data": {
            "text/plain": [
              "Array([0, 3, 6, 9], dtype=int32)"
            ]
          },
          "metadata": {},
          "execution_count": 25
        }
      ]
    },
    {
      "cell_type": "code",
      "source": [
        "# element-wise multiplication (equivalent to Matlab: a .* b)\n",
        "print(array_a * array_b)\n",
        "print(jnp.multiply(array_a, array_b))"
      ],
      "metadata": {
        "colab": {
          "base_uri": "https://localhost:8080/"
        },
        "id": "pLKl7Xz4_8D6",
        "outputId": "14c86b45-a3cf-4865-9d89-fdaa9488248f"
      },
      "execution_count": 26,
      "outputs": [
        {
          "output_type": "stream",
          "name": "stdout",
          "text": [
            "[ 0  3  8 15]\n",
            "[ 0  3  8 15]\n"
          ]
        }
      ]
    },
    {
      "cell_type": "code",
      "source": [
        "# dot product\n",
        "print(jnp.dot(array_a, array_b))\n",
        "print(array_a @ array_b)"
      ],
      "metadata": {
        "colab": {
          "base_uri": "https://localhost:8080/"
        },
        "id": "ruL8Q0Fp_-IC",
        "outputId": "3cf51045-64ad-4e69-c6e5-5b18207f3bb0"
      },
      "execution_count": 27,
      "outputs": [
        {
          "output_type": "stream",
          "name": "stdout",
          "text": [
            "26\n",
            "26\n"
          ]
        }
      ]
    },
    {
      "cell_type": "markdown",
      "source": [
        "## Stacking arrays in depth"
      ],
      "metadata": {
        "id": "-cbOijUTAC0o"
      }
    },
    {
      "cell_type": "code",
      "source": [
        "array_list = [\n",
        "    jnp.arange(start=0, stop=10), \n",
        "    jnp.arange(start=10, stop=20), \n",
        "    jnp.arange(start=20, stop=30)]\n",
        "arrays_stacked = jnp.dstack(array_list)\n",
        "print(f'array_list:\\n{array_list}')\n",
        "print(f'arrays_stacked:\\n{arrays_stacked}')\n",
        "print(f'shape: {arrays_stacked.shape}')"
      ],
      "metadata": {
        "colab": {
          "base_uri": "https://localhost:8080/"
        },
        "id": "nAPsLVKm__1T",
        "outputId": "a80a5247-b62e-4ffa-af14-504cf1f2e84c"
      },
      "execution_count": 28,
      "outputs": [
        {
          "output_type": "stream",
          "name": "stdout",
          "text": [
            "array_list:\n",
            "[Array([0, 1, 2, 3, 4, 5, 6, 7, 8, 9], dtype=int32), Array([10, 11, 12, 13, 14, 15, 16, 17, 18, 19], dtype=int32), Array([20, 21, 22, 23, 24, 25, 26, 27, 28, 29], dtype=int32)]\n",
            "arrays_stacked:\n",
            "[[[ 0 10 20]\n",
            "  [ 1 11 21]\n",
            "  [ 2 12 22]\n",
            "  [ 3 13 23]\n",
            "  [ 4 14 24]\n",
            "  [ 5 15 25]\n",
            "  [ 6 16 26]\n",
            "  [ 7 17 27]\n",
            "  [ 8 18 28]\n",
            "  [ 9 19 29]]]\n",
            "shape: (1, 10, 3)\n"
          ]
        }
      ]
    },
    {
      "cell_type": "code",
      "source": [],
      "metadata": {
        "id": "oNeJSP5bAGnh"
      },
      "execution_count": 28,
      "outputs": []
    }
  ]
}