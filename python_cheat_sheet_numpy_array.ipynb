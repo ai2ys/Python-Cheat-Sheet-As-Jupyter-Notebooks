{
  "nbformat": 4,
  "nbformat_minor": 0,
  "metadata": {
    "colab": {
      "name": "python-cheat-sheet-numpy-array.ipynb",
      "provenance": [],
      "collapsed_sections": [],
      "authorship_tag": "ABX9TyNbkx2y3ghwzru/5RJSwLnX",
      "include_colab_link": true
    },
    "kernelspec": {
      "name": "python3",
      "display_name": "Python 3"
    },
    "language_info": {
      "name": "python"
    }
  },
  "cells": [
    {
      "cell_type": "markdown",
      "metadata": {
        "id": "view-in-github",
        "colab_type": "text"
      },
      "source": [
        "<a href=\"https://colab.research.google.com/github/ai2ys/Python-Cheat-Sheet-As-Jupyter-Notebooks/blob/master/python_cheat_sheet_numpy_array.ipynb\" target=\"_parent\"><img src=\"https://colab.research.google.com/assets/colab-badge.svg\" alt=\"Open In Colab\"/></a>"
      ]
    },
    {
      "cell_type": "markdown",
      "source": [
        "# Numpy Cheat Sheet - NumPy Array\n",
        "\n",
        "This is my 'cheat sheet' for creating and handling arrays in Numpy. Topics are\n",
        "\n",
        "- Create arrays\n",
        "- Crop and subsample arrays\n",
        "- Mulitplications of an array with another array or scalar"
      ],
      "metadata": {
        "id": "I1yrmfrL8ZiS"
      }
    },
    {
      "cell_type": "code",
      "source": [
        "import numpy as np\n",
        "np.__version__"
      ],
      "metadata": {
        "colab": {
          "base_uri": "https://localhost:8080/",
          "height": 35
        },
        "id": "1yAqmvkT8cNb",
        "outputId": "0114a759-33bf-4a0b-8587-d0f3f3a93b0e"
      },
      "execution_count": 1,
      "outputs": [
        {
          "output_type": "execute_result",
          "data": {
            "application/vnd.google.colaboratory.intrinsic+json": {
              "type": "string"
            },
            "text/plain": [
              "'1.19.5'"
            ]
          },
          "metadata": {},
          "execution_count": 1
        }
      ]
    },
    {
      "cell_type": "markdown",
      "source": [
        "## Array creation routines\n",
        "The following link gives an overview of array creation routines.    \n",
        "https://docs.scipy.org/doc/numpy/reference/routines.array-creation.html"
      ],
      "metadata": {
        "id": "CLQKO8yi9IWX"
      }
    },
    {
      "cell_type": "markdown",
      "source": [
        "### Create an array of zeros, ones, or an empty array\n",
        "- `np.zeros`\n",
        "- `np.ones`\n",
        "- `np.empty` → does not initialize the array entries and is therefore faster than `np.zeros` and `np.ones`\n",
        "\n",
        "Comparing create time with 2D array creation below."
      ],
      "metadata": {
        "id": "WFANKrEp9MIZ"
      }
    },
    {
      "cell_type": "code",
      "source": [
        "rows = 2000\n",
        "columns = 3000"
      ],
      "metadata": {
        "id": "HNediMyg9cJb"
      },
      "execution_count": 3,
      "outputs": []
    },
    {
      "cell_type": "markdown",
      "source": [
        "Using `np.empty`"
      ],
      "metadata": {
        "id": "jOLfy7Uq8IVR"
      }
    },
    {
      "cell_type": "code",
      "source": [
        "%time array_empty = np.empty((rows, columns))\n",
        "print('shape', array_empty.shape)"
      ],
      "metadata": {
        "colab": {
          "base_uri": "https://localhost:8080/"
        },
        "id": "e2sLvwZ08gs7",
        "outputId": "72975512-0d40-41c4-ba60-8d90c4cf3b77"
      },
      "execution_count": 4,
      "outputs": [
        {
          "output_type": "stream",
          "name": "stdout",
          "text": [
            "CPU times: user 248 µs, sys: 46 µs, total: 294 µs\n",
            "Wall time: 1.62 ms\n",
            "shape (2000, 3000)\n"
          ]
        }
      ]
    },
    {
      "cell_type": "markdown",
      "source": [
        "Using `np.zeros`"
      ],
      "metadata": {
        "id": "nunFLqov8MVN"
      }
    },
    {
      "cell_type": "code",
      "source": [
        "%time array_zeros = np.zeros((rows, columns))\n",
        "print('shape', array_zeros.shape)"
      ],
      "metadata": {
        "colab": {
          "base_uri": "https://localhost:8080/"
        },
        "id": "Gc7lsa5l9bnr",
        "outputId": "1429a8ef-c4a2-49f6-f9df-2fd27a7dfe90"
      },
      "execution_count": 5,
      "outputs": [
        {
          "output_type": "stream",
          "name": "stdout",
          "text": [
            "CPU times: user 4.22 ms, sys: 25.2 ms, total: 29.4 ms\n",
            "Wall time: 30.3 ms\n",
            "shape (2000, 3000)\n"
          ]
        }
      ]
    },
    {
      "cell_type": "markdown",
      "source": [
        "Using `np.ones`"
      ],
      "metadata": {
        "id": "tReUvAsE8Pfo"
      }
    },
    {
      "cell_type": "code",
      "source": [
        "\n",
        "%time array_ones = np.ones((rows, columns))\n",
        "print('shape', array_ones.shape)"
      ],
      "metadata": {
        "colab": {
          "base_uri": "https://localhost:8080/"
        },
        "id": "hBZvSeT39fva",
        "outputId": "1b337127-30a0-48ae-801b-093540f989eb"
      },
      "execution_count": 7,
      "outputs": [
        {
          "output_type": "stream",
          "name": "stdout",
          "text": [
            "CPU times: user 5.71 ms, sys: 17.4 ms, total: 23.1 ms\n",
            "Wall time: 30.7 ms\n",
            "shape (2000, 3000)\n"
          ]
        }
      ]
    },
    {
      "cell_type": "markdown",
      "source": [
        "### Create a 1D array of equally spaced numbers\n",
        "https://docs.scipy.org/doc/numpy/reference/generated/numpy.arange.html\n",
        "\n",
        "- `numpy.arange`\n",
        "- `numpy.linspace`\n",
        "\n",
        "Create an array with integers from `0` to `9` using `np.arange(10)`. Keep in mind that the stop value (here: `10`) is not included."
      ],
      "metadata": {
        "id": "UAMYJUg194XA"
      }
    },
    {
      "cell_type": "markdown",
      "source": [
        "Using `np.arrange(10)` will create an array containing all integer values from `0` to `9`. Without specifying explicitly the start value will be `0` and the step size will be `1`. "
      ],
      "metadata": {
        "id": "YS1HRZCg87gP"
      }
    },
    {
      "cell_type": "code",
      "source": [
        "np.arange(10)"
      ],
      "metadata": {
        "colab": {
          "base_uri": "https://localhost:8080/"
        },
        "id": "ACTXUrKn9r4j",
        "outputId": "30ec0d2c-0f62-4e3e-ddfd-25f6e8726acb"
      },
      "execution_count": null,
      "outputs": [
        {
          "output_type": "execute_result",
          "data": {
            "text/plain": [
              "array([0, 1, 2, 3, 4, 5, 6, 7, 8, 9])"
            ]
          },
          "metadata": {},
          "execution_count": 16
        }
      ]
    },
    {
      "cell_type": "markdown",
      "source": [
        "Create an array with a specified start, stop, and step size. As mentioned previously the stop value is not included."
      ],
      "metadata": {
        "id": "yHYePPuP-SYT"
      }
    },
    {
      "cell_type": "code",
      "source": [
        "np.arange(start=5, stop=30, step=5)"
      ],
      "metadata": {
        "colab": {
          "base_uri": "https://localhost:8080/"
        },
        "id": "5qxCIvH5-RG5",
        "outputId": "35070916-5f6d-4037-8d05-a733eec6a827"
      },
      "execution_count": null,
      "outputs": [
        {
          "output_type": "execute_result",
          "data": {
            "text/plain": [
              "array([ 5, 10, 15, 20, 25])"
            ]
          },
          "metadata": {},
          "execution_count": 17
        }
      ]
    },
    {
      "cell_type": "markdown",
      "source": [
        "Here an example with an non-integer step size. The NumPy documentation recommends to use `np.linspace` instead of `np.arrange` with non-integer step sizes."
      ],
      "metadata": {
        "id": "SyVYB05H-Wge"
      }
    },
    {
      "cell_type": "code",
      "source": [
        "np.arange(start=0, stop=1, step=0.1, dtype=np.float)"
      ],
      "metadata": {
        "colab": {
          "base_uri": "https://localhost:8080/"
        },
        "id": "ttENZVda-OFV",
        "outputId": "ef816c7e-ad2f-4bea-cd71-87911ce36658"
      },
      "execution_count": null,
      "outputs": [
        {
          "output_type": "execute_result",
          "data": {
            "text/plain": [
              "array([0. , 0.1, 0.2, 0.3, 0.4, 0.5, 0.6, 0.7, 0.8, 0.9])"
            ]
          },
          "metadata": {},
          "execution_count": 18
        }
      ]
    },
    {
      "cell_type": "markdown",
      "source": [
        "In contrast to `np.arange` the method `np.linspace` offeres the option to include or exclude the endpoint. But keep in mind that you have to adjust the parameters to get the same spacing."
      ],
      "metadata": {
        "id": "DmDtmB_N-pDZ"
      }
    },
    {
      "cell_type": "code",
      "source": [
        "start = 0\n",
        "num = 10"
      ],
      "metadata": {
        "id": "Jsb8ESEM_Sk2"
      },
      "execution_count": 22,
      "outputs": []
    },
    {
      "cell_type": "code",
      "source": [
        "np.linspace(start=start, stop=1, endpoint=False, num=num)"
      ],
      "metadata": {
        "id": "Yjttqjao_WdR",
        "outputId": "08db151c-255e-4091-e8b5-00dcc9cc09fa",
        "colab": {
          "base_uri": "https://localhost:8080/"
        }
      },
      "execution_count": 18,
      "outputs": [
        {
          "output_type": "execute_result",
          "data": {
            "text/plain": [
              "array([0. , 0.1, 0.2, 0.3, 0.4, 0.5, 0.6, 0.7, 0.8, 0.9])"
            ]
          },
          "metadata": {},
          "execution_count": 18
        }
      ]
    },
    {
      "cell_type": "code",
      "source": [
        "np.linspace(start=start, stop=0.9, endpoint=True, num=num)"
      ],
      "metadata": {
        "id": "b1jbiiMQ_ZkW",
        "outputId": "ced1cb32-36e5-42e3-f101-a22fccdefe10",
        "colab": {
          "base_uri": "https://localhost:8080/"
        }
      },
      "execution_count": 19,
      "outputs": [
        {
          "output_type": "execute_result",
          "data": {
            "text/plain": [
              "array([0. , 0.1, 0.2, 0.3, 0.4, 0.5, 0.6, 0.7, 0.8, 0.9])"
            ]
          },
          "metadata": {},
          "execution_count": 19
        }
      ]
    },
    {
      "cell_type": "code",
      "source": [
        "np.linspace(start=start, stop=1, endpoint=True , num=num)"
      ],
      "metadata": {
        "id": "5UDGs1Wm_d_5",
        "outputId": "af35e3d3-b46f-4dd1-c725-a015e079146f",
        "colab": {
          "base_uri": "https://localhost:8080/"
        }
      },
      "execution_count": 21,
      "outputs": [
        {
          "output_type": "execute_result",
          "data": {
            "text/plain": [
              "array([0.        , 0.11111111, 0.22222222, 0.33333333, 0.44444444,\n",
              "       0.55555556, 0.66666667, 0.77777778, 0.88888889, 1.        ])"
            ]
          },
          "metadata": {},
          "execution_count": 21
        }
      ]
    },
    {
      "cell_type": "markdown",
      "source": [
        "## Selecting array elements, crop and subsample arrays\n",
        "Crops can be extracted from arrays and they can be subsampled as well. Here an example for subsampling an array.\n",
        "\n",
        "Indices in Python are zero-based and the `stop`-index value will not be included.\n",
        "- `array[index]` &rarr; accessing an array element by its index\n",
        "- `array[start:stop]` &rarr; extracting a slice of the array containing all values from index `start` to `stop-1`\n",
        "- `array[start:stop:step]` &rarr; extracting a slice of the array containing only n-th value defined by the `step`-size."
      ],
      "metadata": {
        "id": "2SLHLKHp-11W"
      }
    },
    {
      "cell_type": "code",
      "source": [
        "data_1D = np.arange(101)\n",
        "data_1D"
      ],
      "metadata": {
        "id": "rUcAsv21BvrG",
        "outputId": "92f35d03-0b07-4e51-cef4-6a042a64bed9",
        "colab": {
          "base_uri": "https://localhost:8080/"
        }
      },
      "execution_count": 30,
      "outputs": [
        {
          "output_type": "execute_result",
          "data": {
            "text/plain": [
              "array([  0,   1,   2,   3,   4,   5,   6,   7,   8,   9,  10,  11,  12,\n",
              "        13,  14,  15,  16,  17,  18,  19,  20,  21,  22,  23,  24,  25,\n",
              "        26,  27,  28,  29,  30,  31,  32,  33,  34,  35,  36,  37,  38,\n",
              "        39,  40,  41,  42,  43,  44,  45,  46,  47,  48,  49,  50,  51,\n",
              "        52,  53,  54,  55,  56,  57,  58,  59,  60,  61,  62,  63,  64,\n",
              "        65,  66,  67,  68,  69,  70,  71,  72,  73,  74,  75,  76,  77,\n",
              "        78,  79,  80,  81,  82,  83,  84,  85,  86,  87,  88,  89,  90,\n",
              "        91,  92,  93,  94,  95,  96,  97,  98,  99, 100])"
            ]
          },
          "metadata": {},
          "execution_count": 30
        }
      ]
    },
    {
      "cell_type": "markdown",
      "source": [
        "Explicitly defining the `start` and `end`. Both could be ommitted, because `start=0` and `end=101` are the first and last index. "
      ],
      "metadata": {
        "id": "C2YDI805C_XP"
      }
    },
    {
      "cell_type": "code",
      "source": [
        "# start=0, end=101, step=10\n",
        "data_1D[0:101:10]"
      ],
      "metadata": {
        "id": "UMdD3U9TCFB7",
        "outputId": "a9dffd90-5597-4be5-b1ea-f3b2927a2efa",
        "colab": {
          "base_uri": "https://localhost:8080/"
        }
      },
      "execution_count": 31,
      "outputs": [
        {
          "output_type": "execute_result",
          "data": {
            "text/plain": [
              "array([  0,  10,  20,  30,  40,  50,  60,  70,  80,  90, 100])"
            ]
          },
          "metadata": {},
          "execution_count": 31
        }
      ]
    },
    {
      "cell_type": "markdown",
      "source": [
        "Ommitting the values for `start` and `end` as all values from start to end will be selected."
      ],
      "metadata": {
        "id": "3uDUnpJjDXC1"
      }
    },
    {
      "cell_type": "code",
      "source": [
        "# step=10\n",
        "data_1D[::10]"
      ],
      "metadata": {
        "id": "CcGuXlAkByme",
        "outputId": "ee770e87-ec62-4e68-dbea-1a7844a334df",
        "colab": {
          "base_uri": "https://localhost:8080/"
        }
      },
      "execution_count": 32,
      "outputs": [
        {
          "output_type": "execute_result",
          "data": {
            "text/plain": [
              "array([  0,  10,  20,  30,  40,  50,  60,  70,  80,  90, 100])"
            ]
          },
          "metadata": {},
          "execution_count": 32
        }
      ]
    },
    {
      "cell_type": "markdown",
      "source": [
        "Example for creating a crop. Have in mind that the endpoint will not be included."
      ],
      "metadata": {
        "id": "_3FneTQW_Fqt"
      }
    },
    {
      "cell_type": "code",
      "source": [
        "start = 12\n",
        "end = 50\n",
        "data_1D = np.arange(101)\n",
        "data_1D[start:end]"
      ],
      "metadata": {
        "colab": {
          "base_uri": "https://localhost:8080/"
        },
        "id": "39a8e2iB_Er0",
        "outputId": "76b339cf-945a-4bed-f6c1-d603515a8b68"
      },
      "execution_count": 37,
      "outputs": [
        {
          "output_type": "execute_result",
          "data": {
            "text/plain": [
              "array([12, 13, 14, 15, 16, 17, 18, 19, 20, 21, 22, 23, 24, 25, 26, 27, 28,\n",
              "       29, 30, 31, 32, 33, 34, 35, 36, 37, 38, 39, 40, 41, 42, 43, 44, 45,\n",
              "       46, 47, 48, 49])"
            ]
          },
          "metadata": {},
          "execution_count": 37
        }
      ]
    },
    {
      "cell_type": "markdown",
      "source": [
        "### Selecting values using negative indices\n",
        "Using index `-1` will select the last element in the array. Using index `-2` will select the penultimate element and so on."
      ],
      "metadata": {
        "id": "q-dHdbNI_Mhg"
      }
    },
    {
      "cell_type": "code",
      "source": [
        "data_1D = np.arange(10)\n",
        "print(data_1D)\n",
        "print(f\"index -1: {data_1D[-1]} - last element\")\n",
        "print(f\"index -2: {data_1D[-2]} - penultimate element\")"
      ],
      "metadata": {
        "colab": {
          "base_uri": "https://localhost:8080/"
        },
        "id": "yOAqRnAC_J_B",
        "outputId": "f877bb7a-ed04-49ba-f898-66753b992803"
      },
      "execution_count": 38,
      "outputs": [
        {
          "output_type": "stream",
          "name": "stdout",
          "text": [
            "[0 1 2 3 4 5 6 7 8 9]\n",
            "index -1: 9 - last element\n",
            "index -2: 8 - penultimate element\n"
          ]
        }
      ]
    },
    {
      "cell_type": "markdown",
      "source": [
        "But have in mind that **using the index `-1` as `end`-point** in order to crop a portion of the source array will **exclude the last element** of the source array."
      ],
      "metadata": {
        "id": "dUZqsShR_VzO"
      }
    },
    {
      "cell_type": "code",
      "source": [
        "data_1D[0:-1]"
      ],
      "metadata": {
        "colab": {
          "base_uri": "https://localhost:8080/"
        },
        "id": "eao8vJn1_TKz",
        "outputId": "4125b61a-b9d4-4204-a70b-74aa10073d3f"
      },
      "execution_count": 39,
      "outputs": [
        {
          "output_type": "execute_result",
          "data": {
            "text/plain": [
              "array([0, 1, 2, 3, 4, 5, 6, 7, 8])"
            ]
          },
          "metadata": {},
          "execution_count": 39
        }
      ]
    },
    {
      "cell_type": "markdown",
      "source": [
        "The zero as startpoint can be ommitted."
      ],
      "metadata": {
        "id": "nLmhN1p6_bVm"
      }
    },
    {
      "cell_type": "code",
      "source": [
        "data_1D[:-1]"
      ],
      "metadata": {
        "colab": {
          "base_uri": "https://localhost:8080/"
        },
        "id": "dlxkkMNX_aqB",
        "outputId": "d294f896-456f-4360-effb-bfcc597d14dd"
      },
      "execution_count": 42,
      "outputs": [
        {
          "output_type": "execute_result",
          "data": {
            "text/plain": [
              "array([0, 1, 2, 3, 4, 5, 6, 7, 8])"
            ]
          },
          "metadata": {},
          "execution_count": 42
        }
      ]
    },
    {
      "cell_type": "markdown",
      "source": [
        "In order to extract a subset including the last value of the array, the `end`-point has to be defined explicitly or ommitting it."
      ],
      "metadata": {
        "id": "CgUBfhjYHD08"
      }
    },
    {
      "cell_type": "code",
      "source": [
        "# ommiting the end point to extract including the last value\n",
        "data_1D[5:]"
      ],
      "metadata": {
        "id": "CtQZB3JVHQ6W",
        "outputId": "c8e3db2a-b237-4618-f2c7-d1e46e509b29",
        "colab": {
          "base_uri": "https://localhost:8080/"
        }
      },
      "execution_count": 46,
      "outputs": [
        {
          "output_type": "execute_result",
          "data": {
            "text/plain": [
              "array([5, 6, 7, 8, 9])"
            ]
          },
          "metadata": {},
          "execution_count": 46
        }
      ]
    },
    {
      "cell_type": "code",
      "source": [
        "# explicitily setting the end point to extract including the last value\n",
        "data_1D[5:10]"
      ],
      "metadata": {
        "id": "Mrq5fZPmHZjP",
        "outputId": "9ec28436-72d7-4b22-dccc-2d88b5c5f8a5",
        "colab": {
          "base_uri": "https://localhost:8080/"
        }
      },
      "execution_count": 47,
      "outputs": [
        {
          "output_type": "execute_result",
          "data": {
            "text/plain": [
              "array([5, 6, 7, 8, 9])"
            ]
          },
          "metadata": {},
          "execution_count": 47
        }
      ]
    },
    {
      "cell_type": "markdown",
      "source": [
        "## Array multiplications\n",
        "Types of multiplications\n",
        "\n",
        "- Matrix with scalar<br>\n",
        "`array * scalar`\n",
        "- Element-wise product of two arrays<br>\n",
        "`array_a * array_b or np.multiply(array_a, array_b)`\n",
        "- Dot product of two arrays<br>\n",
        "`array_a.dot(array_b) or np.dot(array_a, array_b)`"
      ],
      "metadata": {
        "id": "zzAGYpPh_gfT"
      }
    },
    {
      "cell_type": "code",
      "source": [
        "array_a = np.arange(start=0,stop=4)\n",
        "array_b = np.arange(start=2,stop=6)\n",
        "print(array_a)\n",
        "print(array_b)"
      ],
      "metadata": {
        "colab": {
          "base_uri": "https://localhost:8080/"
        },
        "id": "9T2TvkBg_fwQ",
        "outputId": "a7be7334-7a97-45f1-bd21-99c57df819c7"
      },
      "execution_count": null,
      "outputs": [
        {
          "output_type": "stream",
          "name": "stdout",
          "text": [
            "[0 1 2 3]\n",
            "[2 3 4 5]\n"
          ]
        }
      ]
    },
    {
      "cell_type": "code",
      "source": [
        "# array * scalar\n",
        "scalar=3\n",
        "array_a * scalar"
      ],
      "metadata": {
        "colab": {
          "base_uri": "https://localhost:8080/"
        },
        "id": "OC9PeYOc_6Ba",
        "outputId": "ffab6251-842b-4729-8d31-55f6bbddbd6b"
      },
      "execution_count": null,
      "outputs": [
        {
          "output_type": "execute_result",
          "data": {
            "text/plain": [
              "array([0, 3, 6, 9])"
            ]
          },
          "metadata": {},
          "execution_count": 27
        }
      ]
    },
    {
      "cell_type": "code",
      "source": [
        "# element-wise multiplication (equivalent to Matlab: a .* b)\n",
        "print(np.multiply(array_a, array_b))\n",
        "print(array_a * array_b)"
      ],
      "metadata": {
        "colab": {
          "base_uri": "https://localhost:8080/"
        },
        "id": "pLKl7Xz4_8D6",
        "outputId": "037c59e7-3a22-48bb-c496-96e306947f68"
      },
      "execution_count": null,
      "outputs": [
        {
          "output_type": "stream",
          "name": "stdout",
          "text": [
            "[ 0  3  8 15]\n",
            "[ 0  3  8 15]\n"
          ]
        }
      ]
    },
    {
      "cell_type": "code",
      "source": [
        "array_a * array_b"
      ],
      "metadata": {
        "colab": {
          "base_uri": "https://localhost:8080/"
        },
        "id": "ruL8Q0Fp_-IC",
        "outputId": "11447dce-ee83-49cd-e95d-aeac9126ccc0"
      },
      "execution_count": null,
      "outputs": [
        {
          "output_type": "execute_result",
          "data": {
            "text/plain": [
              "array([ 0,  3,  8, 15])"
            ]
          },
          "metadata": {},
          "execution_count": 29
        }
      ]
    },
    {
      "cell_type": "markdown",
      "source": [
        "## Stacking arrays in depth"
      ],
      "metadata": {
        "id": "-cbOijUTAC0o"
      }
    },
    {
      "cell_type": "code",
      "source": [
        "array_list = [np.arange(start=0, stop=10), np.arange(start=10, stop=20), np.arange(start=20, stop=30)]\n",
        "print(array_list)\n",
        "arrays_stacked = np.dstack(array_list)\n",
        "print(arrays_stacked)\n",
        "print('shape', arrays_stacked.shape)"
      ],
      "metadata": {
        "colab": {
          "base_uri": "https://localhost:8080/"
        },
        "id": "nAPsLVKm__1T",
        "outputId": "11758c00-e637-4395-8413-72579a639539"
      },
      "execution_count": null,
      "outputs": [
        {
          "output_type": "stream",
          "name": "stdout",
          "text": [
            "[array([0, 1, 2, 3, 4, 5, 6, 7, 8, 9]), array([10, 11, 12, 13, 14, 15, 16, 17, 18, 19]), array([20, 21, 22, 23, 24, 25, 26, 27, 28, 29])]\n",
            "[[[ 0 10 20]\n",
            "  [ 1 11 21]\n",
            "  [ 2 12 22]\n",
            "  [ 3 13 23]\n",
            "  [ 4 14 24]\n",
            "  [ 5 15 25]\n",
            "  [ 6 16 26]\n",
            "  [ 7 17 27]\n",
            "  [ 8 18 28]\n",
            "  [ 9 19 29]]]\n",
            "shape (1, 10, 3)\n"
          ]
        }
      ]
    },
    {
      "cell_type": "code",
      "source": [
        ""
      ],
      "metadata": {
        "id": "oNeJSP5bAGnh"
      },
      "execution_count": null,
      "outputs": []
    }
  ]
}