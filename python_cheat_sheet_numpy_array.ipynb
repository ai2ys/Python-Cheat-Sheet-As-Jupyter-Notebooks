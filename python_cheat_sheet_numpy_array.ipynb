{
  "nbformat": 4,
  "nbformat_minor": 0,
  "metadata": {
    "colab": {
      "name": "python-cheat-sheet-numpy-array.ipynb",
      "provenance": [],
      "collapsed_sections": [],
      "authorship_tag": "ABX9TyPG/n4I9kT/ufGRihJylPvL",
      "include_colab_link": true
    },
    "kernelspec": {
      "name": "python3",
      "display_name": "Python 3"
    },
    "language_info": {
      "name": "python"
    }
  },
  "cells": [
    {
      "cell_type": "markdown",
      "metadata": {
        "id": "view-in-github",
        "colab_type": "text"
      },
      "source": [
        "<a href=\"https://colab.research.google.com/github/ai2ys/Python-Cheat-Sheet-As-Jupyter-Notebooks/blob/master/python_cheat_sheet_numpy_array.ipynb\" target=\"_parent\"><img src=\"https://colab.research.google.com/assets/colab-badge.svg\" alt=\"Open In Colab\"/></a>"
      ]
    },
    {
      "cell_type": "markdown",
      "source": [
        "# Beginners tutorial - arrays in NumPy\n",
        "\n",
        "This is my 'cheat sheet' for creating and handling arrays in Numpy. Topics are\n",
        "\n",
        "Create arrays\n",
        "Crop and subsample arrays\n",
        "Mulitplications of an array with another array or scalar"
      ],
      "metadata": {
        "id": "I1yrmfrL8ZiS"
      }
    },
    {
      "cell_type": "code",
      "source": [
        "import numpy as np\n",
        "np.__version__"
      ],
      "metadata": {
        "colab": {
          "base_uri": "https://localhost:8080/",
          "height": 35
        },
        "id": "1yAqmvkT8cNb",
        "outputId": "cc1792d1-a4bc-4089-8a1b-5d24359c0c96"
      },
      "execution_count": 2,
      "outputs": [
        {
          "output_type": "execute_result",
          "data": {
            "application/vnd.google.colaboratory.intrinsic+json": {
              "type": "string"
            },
            "text/plain": [
              "'1.19.5'"
            ]
          },
          "metadata": {},
          "execution_count": 2
        }
      ]
    },
    {
      "cell_type": "markdown",
      "source": [
        "## Array creation routines\n",
        "The following link gives an overview of array creation routines. https://docs.scipy.org/doc/numpy/reference/routines.array-creation.html"
      ],
      "metadata": {
        "id": "CLQKO8yi9IWX"
      }
    },
    {
      "cell_type": "markdown",
      "source": [
        "### Create an array of zeros, ones, or an empty array\n",
        "- `np.zeros`\n",
        "- `np.ones`\n",
        "- `np.empty` → does not initialize the array entries and is therefore slightly faster than `np.zeros`"
      ],
      "metadata": {
        "id": "WFANKrEp9MIZ"
      }
    },
    {
      "cell_type": "code",
      "source": [
        "rows = 2000\n",
        "columns = 3000"
      ],
      "metadata": {
        "id": "HNediMyg9cJb"
      },
      "execution_count": 12,
      "outputs": []
    },
    {
      "cell_type": "code",
      "source": [
        "%time array_empty = np.empty((rows, columns))\n",
        "print('shape', array_empty.shape)"
      ],
      "metadata": {
        "colab": {
          "base_uri": "https://localhost:8080/"
        },
        "id": "e2sLvwZ08gs7",
        "outputId": "0d845567-8257-4d6a-d7e3-d90c923ffed8"
      },
      "execution_count": 13,
      "outputs": [
        {
          "output_type": "stream",
          "name": "stdout",
          "text": [
            "CPU times: user 94 µs, sys: 14 µs, total: 108 µs\n",
            "Wall time: 111 µs\n",
            "shape (2000, 3000)\n"
          ]
        }
      ]
    },
    {
      "cell_type": "code",
      "source": [
        "%time array_zeros = np.zeros((rows, columns))\n",
        "print('shape', array_zeros.shape)"
      ],
      "metadata": {
        "colab": {
          "base_uri": "https://localhost:8080/"
        },
        "id": "Gc7lsa5l9bnr",
        "outputId": "cb6c2786-68bf-41d4-b0a5-0fa6f5c58d68"
      },
      "execution_count": 14,
      "outputs": [
        {
          "output_type": "stream",
          "name": "stdout",
          "text": [
            "CPU times: user 4.18 ms, sys: 24.9 ms, total: 29.1 ms\n",
            "Wall time: 29.8 ms\n",
            "shape (2000, 3000)\n"
          ]
        }
      ]
    },
    {
      "cell_type": "code",
      "source": [
        "%time array_ones = np.ones((rows, columns))\n",
        "print('shape', array_ones.shape)"
      ],
      "metadata": {
        "colab": {
          "base_uri": "https://localhost:8080/"
        },
        "id": "hBZvSeT39fva",
        "outputId": "575b0c4e-2ceb-4666-ded2-298f4461ce04"
      },
      "execution_count": 15,
      "outputs": [
        {
          "output_type": "stream",
          "name": "stdout",
          "text": [
            "CPU times: user 1.53 ms, sys: 14.1 ms, total: 15.6 ms\n",
            "Wall time: 19.4 ms\n",
            "shape (2000, 3000)\n"
          ]
        }
      ]
    },
    {
      "cell_type": "markdown",
      "source": [
        "### Create a 1D array of equally spaced numbers\n",
        "https://docs.scipy.org/doc/numpy/reference/generated/numpy.arange.html\n",
        "\n",
        "- `numpy.arange`\n",
        "- `numpy.linspace`\n",
        "\n",
        "Create an array with integers from `0` to `9` using `np.arange(10)`. Have in mind that the stop value (here: `10`) is not included."
      ],
      "metadata": {
        "id": "UAMYJUg194XA"
      }
    },
    {
      "cell_type": "code",
      "source": [
        "np.arange(10)"
      ],
      "metadata": {
        "colab": {
          "base_uri": "https://localhost:8080/"
        },
        "id": "ACTXUrKn9r4j",
        "outputId": "30ec0d2c-0f62-4e3e-ddfd-25f6e8726acb"
      },
      "execution_count": 16,
      "outputs": [
        {
          "output_type": "execute_result",
          "data": {
            "text/plain": [
              "array([0, 1, 2, 3, 4, 5, 6, 7, 8, 9])"
            ]
          },
          "metadata": {},
          "execution_count": 16
        }
      ]
    },
    {
      "cell_type": "markdown",
      "source": [
        "Create an array with a specified start, stop, and step size. As mentioned before the stop value is not included."
      ],
      "metadata": {
        "id": "yHYePPuP-SYT"
      }
    },
    {
      "cell_type": "code",
      "source": [
        "np.arange(start=5, stop=30, step=5)"
      ],
      "metadata": {
        "colab": {
          "base_uri": "https://localhost:8080/"
        },
        "id": "5qxCIvH5-RG5",
        "outputId": "35070916-5f6d-4037-8d05-a733eec6a827"
      },
      "execution_count": 17,
      "outputs": [
        {
          "output_type": "execute_result",
          "data": {
            "text/plain": [
              "array([ 5, 10, 15, 20, 25])"
            ]
          },
          "metadata": {},
          "execution_count": 17
        }
      ]
    },
    {
      "cell_type": "markdown",
      "source": [
        "In case of using non-integer step sizes the NumPy documentation recommends to use numpy.linspace instead."
      ],
      "metadata": {
        "id": "SyVYB05H-Wge"
      }
    },
    {
      "cell_type": "code",
      "source": [
        "np.arange(start=0, stop=1, step=0.1, dtype=np.float)"
      ],
      "metadata": {
        "colab": {
          "base_uri": "https://localhost:8080/"
        },
        "id": "ttENZVda-OFV",
        "outputId": "ef816c7e-ad2f-4bea-cd71-87911ce36658"
      },
      "execution_count": 18,
      "outputs": [
        {
          "output_type": "execute_result",
          "data": {
            "text/plain": [
              "array([0. , 0.1, 0.2, 0.3, 0.4, 0.5, 0.6, 0.7, 0.8, 0.9])"
            ]
          },
          "metadata": {},
          "execution_count": 18
        }
      ]
    },
    {
      "cell_type": "markdown",
      "source": [
        "In contrast to `np.arange` the method `np.linspace` offeres the option to include or exclude the endpoint. But keep in mind that you have to adjust the parameters to get the same spacing."
      ],
      "metadata": {
        "id": "DmDtmB_N-pDZ"
      }
    },
    {
      "cell_type": "code",
      "source": [
        "start = 0\n",
        "num = 10\n",
        "print(np.linspace(start=start, stop=1, endpoint=False, num=num))\n",
        "print(np.linspace(start=start, stop=1, endpoint=True, num=num))\n",
        "print(np.linspace(start=start, stop=0.9, endpoint=True, num=num))"
      ],
      "metadata": {
        "colab": {
          "base_uri": "https://localhost:8080/"
        },
        "id": "rZTH0dxf-ekp",
        "outputId": "dcc62b26-1230-4321-83bc-4826210a6511"
      },
      "execution_count": 20,
      "outputs": [
        {
          "output_type": "stream",
          "name": "stdout",
          "text": [
            "[0.  0.1 0.2 0.3 0.4 0.5 0.6 0.7 0.8 0.9]\n",
            "[0.         0.11111111 0.22222222 0.33333333 0.44444444 0.55555556\n",
            " 0.66666667 0.77777778 0.88888889 1.        ]\n",
            "[0.  0.1 0.2 0.3 0.4 0.5 0.6 0.7 0.8 0.9]\n"
          ]
        }
      ]
    },
    {
      "cell_type": "markdown",
      "source": [
        "## Crop and subsample arrays\n",
        "Crops can be extracted from arrays and they can be subsampled as well. Here an example for subsampling an array.\n",
        "\n",
        "- `array[index]`\n",
        "- `array[start:stop]`\n",
        "- `array[start:stop:step]`"
      ],
      "metadata": {
        "id": "2SLHLKHp-11W"
      }
    },
    {
      "cell_type": "code",
      "source": [
        "step_size = 10\n",
        "start = 0\n",
        "data_1D = np.arange(101)\n",
        "data_1D[start::step_size]"
      ],
      "metadata": {
        "colab": {
          "base_uri": "https://localhost:8080/"
        },
        "id": "huo-gI85-lkS",
        "outputId": "36825999-098e-4426-d624-8e7f1556897a"
      },
      "execution_count": 21,
      "outputs": [
        {
          "output_type": "execute_result",
          "data": {
            "text/plain": [
              "array([  0,  10,  20,  30,  40,  50,  60,  70,  80,  90, 100])"
            ]
          },
          "metadata": {},
          "execution_count": 21
        }
      ]
    },
    {
      "cell_type": "markdown",
      "source": [
        "Example for creating a crop. Have in mind that the endpoint will not be included."
      ],
      "metadata": {
        "id": "_3FneTQW_Fqt"
      }
    },
    {
      "cell_type": "code",
      "source": [
        "start = 12\n",
        "end = 50\n",
        "data_1D = np.arange(101)\n",
        "data_1D[start:end]"
      ],
      "metadata": {
        "colab": {
          "base_uri": "https://localhost:8080/"
        },
        "id": "39a8e2iB_Er0",
        "outputId": "6226855e-640b-4ffa-8867-f61b51d2972e"
      },
      "execution_count": 22,
      "outputs": [
        {
          "output_type": "execute_result",
          "data": {
            "text/plain": [
              "array([12, 13, 14, 15, 16, 17, 18, 19, 20, 21, 22, 23, 24, 25, 26, 27, 28,\n",
              "       29, 30, 31, 32, 33, 34, 35, 36, 37, 38, 39, 40, 41, 42, 43, 44, 45,\n",
              "       46, 47, 48, 49])"
            ]
          },
          "metadata": {},
          "execution_count": 22
        }
      ]
    },
    {
      "cell_type": "markdown",
      "source": [
        "Extract the last element of an array by using the index `-1`. To access the second last elment use the index `-2` and so on."
      ],
      "metadata": {
        "id": "q-dHdbNI_Mhg"
      }
    },
    {
      "cell_type": "code",
      "source": [
        "data_1D = np.arange(10)\n",
        "print(data_1D)\n",
        "print('index -1:', data_1D[-1])\n",
        "print('index -2:', data_1D[-2])"
      ],
      "metadata": {
        "colab": {
          "base_uri": "https://localhost:8080/"
        },
        "id": "yOAqRnAC_J_B",
        "outputId": "97c14479-8fe7-4d50-925e-5efd806774dd"
      },
      "execution_count": 23,
      "outputs": [
        {
          "output_type": "stream",
          "name": "stdout",
          "text": [
            "[0 1 2 3 4 5 6 7 8 9]\n",
            "index -1: 9\n",
            "index -2: 8\n"
          ]
        }
      ]
    },
    {
      "cell_type": "markdown",
      "source": [
        "But have in mind that using the index `-1` as endpoint in order to crop a portion of the source array will exclude the last element of the source array."
      ],
      "metadata": {
        "id": "dUZqsShR_VzO"
      }
    },
    {
      "cell_type": "code",
      "source": [
        "data_1D[0:-1]"
      ],
      "metadata": {
        "colab": {
          "base_uri": "https://localhost:8080/"
        },
        "id": "eao8vJn1_TKz",
        "outputId": "f72c6b09-d8ce-4835-d15b-d1b698138a79"
      },
      "execution_count": 24,
      "outputs": [
        {
          "output_type": "execute_result",
          "data": {
            "text/plain": [
              "array([0, 1, 2, 3, 4, 5, 6, 7, 8])"
            ]
          },
          "metadata": {},
          "execution_count": 24
        }
      ]
    },
    {
      "cell_type": "markdown",
      "source": [
        "The zero as startpoint can be ommitted."
      ],
      "metadata": {
        "id": "nLmhN1p6_bVm"
      }
    },
    {
      "cell_type": "code",
      "source": [
        "data_1D[:-1]"
      ],
      "metadata": {
        "colab": {
          "base_uri": "https://localhost:8080/"
        },
        "id": "dlxkkMNX_aqB",
        "outputId": "0bd57119-0cf9-43e7-97f4-7817654a2f57"
      },
      "execution_count": 25,
      "outputs": [
        {
          "output_type": "execute_result",
          "data": {
            "text/plain": [
              "array([0, 1, 2, 3, 4, 5, 6, 7, 8])"
            ]
          },
          "metadata": {},
          "execution_count": 25
        }
      ]
    },
    {
      "cell_type": "markdown",
      "source": [
        "## Array multiplications\n",
        "Types of multiplications\n",
        "\n",
        "- Matrix with scalar<br>\n",
        "`array * scalar`\n",
        "- Element-wise product of two arrays<br>\n",
        "`array_a * array_b or np.multiply(array_a, array_b)`\n",
        "- Dot product of two arrays<br>\n",
        "`array_a.dot(array_b) or np.dot(array_a, array_b)`"
      ],
      "metadata": {
        "id": "zzAGYpPh_gfT"
      }
    },
    {
      "cell_type": "code",
      "source": [
        "array_a = np.arange(start=0,stop=4)\n",
        "array_b = np.arange(start=2,stop=6)\n",
        "print(array_a)\n",
        "print(array_b)"
      ],
      "metadata": {
        "colab": {
          "base_uri": "https://localhost:8080/"
        },
        "id": "9T2TvkBg_fwQ",
        "outputId": "a7be7334-7a97-45f1-bd21-99c57df819c7"
      },
      "execution_count": 26,
      "outputs": [
        {
          "output_type": "stream",
          "name": "stdout",
          "text": [
            "[0 1 2 3]\n",
            "[2 3 4 5]\n"
          ]
        }
      ]
    },
    {
      "cell_type": "code",
      "source": [
        "# array * scalar\n",
        "scalar=3\n",
        "array_a * scalar"
      ],
      "metadata": {
        "colab": {
          "base_uri": "https://localhost:8080/"
        },
        "id": "OC9PeYOc_6Ba",
        "outputId": "ffab6251-842b-4729-8d31-55f6bbddbd6b"
      },
      "execution_count": 27,
      "outputs": [
        {
          "output_type": "execute_result",
          "data": {
            "text/plain": [
              "array([0, 3, 6, 9])"
            ]
          },
          "metadata": {},
          "execution_count": 27
        }
      ]
    },
    {
      "cell_type": "code",
      "source": [
        "# element-wise multiplication (equivalent to Matlab: a .* b)\n",
        "print(np.multiply(array_a, array_b))\n",
        "print(array_a * array_b)"
      ],
      "metadata": {
        "colab": {
          "base_uri": "https://localhost:8080/"
        },
        "id": "pLKl7Xz4_8D6",
        "outputId": "037c59e7-3a22-48bb-c496-96e306947f68"
      },
      "execution_count": 28,
      "outputs": [
        {
          "output_type": "stream",
          "name": "stdout",
          "text": [
            "[ 0  3  8 15]\n",
            "[ 0  3  8 15]\n"
          ]
        }
      ]
    },
    {
      "cell_type": "code",
      "source": [
        "array_a * array_b"
      ],
      "metadata": {
        "colab": {
          "base_uri": "https://localhost:8080/"
        },
        "id": "ruL8Q0Fp_-IC",
        "outputId": "11447dce-ee83-49cd-e95d-aeac9126ccc0"
      },
      "execution_count": 29,
      "outputs": [
        {
          "output_type": "execute_result",
          "data": {
            "text/plain": [
              "array([ 0,  3,  8, 15])"
            ]
          },
          "metadata": {},
          "execution_count": 29
        }
      ]
    },
    {
      "cell_type": "markdown",
      "source": [
        "## Stacking arrays in depth"
      ],
      "metadata": {
        "id": "-cbOijUTAC0o"
      }
    },
    {
      "cell_type": "code",
      "source": [
        "array_list = [np.arange(start=0, stop=10), np.arange(start=10, stop=20), np.arange(start=20, stop=30)]\n",
        "print(array_list)\n",
        "arrays_stacked = np.dstack(array_list)\n",
        "print(arrays_stacked)\n",
        "print('shape', arrays_stacked.shape)"
      ],
      "metadata": {
        "colab": {
          "base_uri": "https://localhost:8080/"
        },
        "id": "nAPsLVKm__1T",
        "outputId": "11758c00-e637-4395-8413-72579a639539"
      },
      "execution_count": 30,
      "outputs": [
        {
          "output_type": "stream",
          "name": "stdout",
          "text": [
            "[array([0, 1, 2, 3, 4, 5, 6, 7, 8, 9]), array([10, 11, 12, 13, 14, 15, 16, 17, 18, 19]), array([20, 21, 22, 23, 24, 25, 26, 27, 28, 29])]\n",
            "[[[ 0 10 20]\n",
            "  [ 1 11 21]\n",
            "  [ 2 12 22]\n",
            "  [ 3 13 23]\n",
            "  [ 4 14 24]\n",
            "  [ 5 15 25]\n",
            "  [ 6 16 26]\n",
            "  [ 7 17 27]\n",
            "  [ 8 18 28]\n",
            "  [ 9 19 29]]]\n",
            "shape (1, 10, 3)\n"
          ]
        }
      ]
    },
    {
      "cell_type": "code",
      "source": [
        ""
      ],
      "metadata": {
        "id": "oNeJSP5bAGnh"
      },
      "execution_count": null,
      "outputs": []
    }
  ]
}