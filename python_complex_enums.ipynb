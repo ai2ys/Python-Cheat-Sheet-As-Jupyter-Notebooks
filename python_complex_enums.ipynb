{
  "nbformat": 4,
  "nbformat_minor": 0,
  "metadata": {
    "colab": {
      "name": "python_complex_enums.ipynb",
      "provenance": [],
      "collapsed_sections": [],
      "authorship_tag": "ABX9TyNlP5gMTD2oDOX911Zk1BF1",
      "include_colab_link": true
    },
    "kernelspec": {
      "name": "python3",
      "display_name": "Python 3"
    },
    "language_info": {
      "name": "python"
    }
  },
  "cells": [
    {
      "cell_type": "markdown",
      "metadata": {
        "id": "view-in-github",
        "colab_type": "text"
      },
      "source": [
        "<a href=\"https://colab.research.google.com/github/ai2ys/Python-Cheat-Sheet-As-Jupyter-Notebooks/blob/master/python_complex_enums.ipynb\" target=\"_parent\"><img src=\"https://colab.research.google.com/assets/colab-badge.svg\" alt=\"Open In Colab\"/></a>"
      ]
    },
    {
      "cell_type": "markdown",
      "source": [
        "# How to build complex enumerations objects in Python\n"
      ],
      "metadata": {
        "id": "UVlM9euYSb8b"
      }
    },
    {
      "cell_type": "code",
      "source": [
        "!python --version"
      ],
      "metadata": {
        "colab": {
          "base_uri": "https://localhost:8080/"
        },
        "id": "-4-wNp0J3Y_e",
        "outputId": "9987514c-5972-480e-f40d-f1540923c2d0"
      },
      "execution_count": 1,
      "outputs": [
        {
          "output_type": "stream",
          "name": "stdout",
          "text": [
            "Python 3.7.12\n"
          ]
        }
      ]
    },
    {
      "cell_type": "markdown",
      "source": [
        "Sample in cell below is based on code from [https://docs.python.org/3.8/library/enum.html?highlight=enum#intflag](https://docs.python.org/3.8/library/enum.html?highlight=enum#intflag)"
      ],
      "metadata": {
        "id": "7OFqrbC-3nFO"
      }
    },
    {
      "cell_type": "code",
      "source": [
        "from enum import auto, IntFlag\n",
        "from typing import List\n",
        "\n",
        "class Colors(IntFlag):\n",
        "    RED = auto()\n",
        "    BLUE = auto()\n",
        "    GREEN = auto()\n",
        "    MAGENTA = RED | BLUE\n",
        "    CYAN = BLUE | GREEN\n",
        "    WHITE = RED | BLUE | GREEN\n",
        "\n",
        "    # def __init__(self, *args):\n",
        "    #     print(args)\n",
        "\n",
        "    def contains(self) -> List[str]:\n",
        "        Colors.base_colors = [Colors.RED, Colors.GREEN, Colors.BLUE]\n",
        "        return [base_color.name for base_color in Colors.base_colors if base_color in self]\n",
        "\n",
        "for c in Colors:\n",
        "    print(f\"{c.name}\\thas value {c.value}\")        \n",
        "\n",
        "for c in Colors:\n",
        "    print(f\"{c.name}\\tcontains {c.contains()}\")"
      ],
      "metadata": {
        "colab": {
          "base_uri": "https://localhost:8080/"
        },
        "id": "0KI1JFbJYSK1",
        "outputId": "3035723e-042e-4218-c7c9-91bcb42b6b69"
      },
      "execution_count": 2,
      "outputs": [
        {
          "output_type": "stream",
          "name": "stdout",
          "text": [
            "RED\thas value 1\n",
            "BLUE\thas value 2\n",
            "GREEN\thas value 4\n",
            "MAGENTA\thas value 3\n",
            "CYAN\thas value 6\n",
            "WHITE\thas value 7\n",
            "RED\tcontains ['RED']\n",
            "BLUE\tcontains ['BLUE']\n",
            "GREEN\tcontains ['GREEN']\n",
            "MAGENTA\tcontains ['RED', 'BLUE']\n",
            "CYAN\tcontains ['GREEN', 'BLUE']\n",
            "WHITE\tcontains ['RED', 'GREEN', 'BLUE']\n"
          ]
        }
      ]
    },
    {
      "cell_type": "markdown",
      "source": [
        "## Defining base class for zero based auto numbering of enumerations values within class"
      ],
      "metadata": {
        "id": "JU9bAUJIV1Ev"
      }
    },
    {
      "cell_type": "code",
      "source": [
        "from enum import Enum, auto\n",
        "class AutoNumbered(Enum):\n",
        "    A = auto()\n",
        "    B = auto()\n",
        "    C = auto()\n",
        "\n",
        "for e in AutoNumbered:\n",
        "    print(e.name, e.value)"
      ],
      "metadata": {
        "colab": {
          "base_uri": "https://localhost:8080/"
        },
        "id": "pAz0OR0EgKZq",
        "outputId": "64ea6e6d-cb93-4ce3-93a6-96f0bbb8c4f1"
      },
      "execution_count": 3,
      "outputs": [
        {
          "output_type": "stream",
          "name": "stdout",
          "text": [
            "A 1\n",
            "B 2\n",
            "C 3\n"
          ]
        }
      ]
    },
    {
      "cell_type": "markdown",
      "source": [
        "The built-in auto numbering starts at number \"1\". To get an auto numbering starting at \"0\", the following class can be used as base class."
      ],
      "metadata": {
        "id": "T0-IzDjGgZFV"
      }
    },
    {
      "cell_type": "code",
      "source": [
        "from enum import Enum\n",
        "\n",
        "class EnumZeroBased(Enum):\n",
        "    \"\"\"Base class for using auto numbering with enumerations starting from zero.\n",
        "    \"\"\"\n",
        "    def __new__(cls, *args):\n",
        "        value = len(cls.__members__)\n",
        "        obj = object.__new__(cls)\n",
        "        obj._value_ = value\n",
        "        return obj"
      ],
      "metadata": {
        "id": "9B9ZGZebShOX"
      },
      "execution_count": 4,
      "outputs": []
    },
    {
      "cell_type": "markdown",
      "source": [
        "## Sample for using the auto numbering"
      ],
      "metadata": {
        "id": "RyqSJW-4VrM0"
      }
    },
    {
      "cell_type": "code",
      "source": [
        "class AutoNumberedZero(EnumZeroBased):\n",
        "    A = ()\n",
        "    B = ()\n",
        "    C = ()\n",
        "\n",
        "for e in AutoNumberedZero:\n",
        "    print(e.name, e.value)"
      ],
      "metadata": {
        "colab": {
          "base_uri": "https://localhost:8080/"
        },
        "id": "73jJtphIUYMB",
        "outputId": "ad5eca43-d4ec-4890-9b81-5f877e1b217b"
      },
      "execution_count": 5,
      "outputs": [
        {
          "output_type": "stream",
          "name": "stdout",
          "text": [
            "A 0\n",
            "B 1\n",
            "C 2\n"
          ]
        }
      ]
    },
    {
      "cell_type": "markdown",
      "source": [
        "## Sample for using the auto numbering and additional parameter for initialization"
      ],
      "metadata": {
        "id": "xii05rvDWMhZ"
      }
    },
    {
      "cell_type": "code",
      "source": [
        "class CfaPattern(Enum):\n",
        "    \"\"\"https://www.awaresystems.be/imaging/tiff/tifftags/privateifd/exif/cfapattern.html\n",
        "    https://www.awaresystems.be/imaging/tiff/tifftags/cfaplanecolor.html\n",
        "\n",
        "    Args:\n",
        "        Enum ([type]): [description]\n",
        "    \"\"\"\n",
        "    Red = 0\n",
        "    Green = 1\n",
        "    Blue = 2\n",
        "    Magenta = 3\n",
        "    Yellow = 4\n",
        "    White = 6\n",
        "\n",
        "class BayerPixel(EnumZeroBased):\n",
        "    \"\"\"Enumeration defining bayer pixel.\n",
        "    \"\"\"   \n",
        "    def __init__(self, cfa_equivalent:CfaPattern):\n",
        "        \"\"\"\n",
        "        Args:\n",
        "            rgb_equivalent: The corresponding rgb pixel color for this bayer pixel.\n",
        "        \"\"\"\n",
        "        self._cfa_equivalent = cfa_equivalent\n",
        "    \n",
        "    R = (CfaPattern.Red)\n",
        "    Gr = (CfaPattern.Green)\n",
        "    Gb = (CfaPattern.Green)\n",
        "    B = (CfaPattern.Blue)\n",
        "    \n",
        "    @property\n",
        "    def get_cfa_equivalent(self) -> CfaPattern:\n",
        "        \"\"\"\n",
        "        Returns:\n",
        "            RGBPixel: The corresponding RGB pixel value for this bayer pixel value.\n",
        "        \"\"\"\n",
        "        return self._cfa_equivalent\n",
        "\n",
        "\n",
        "class BayerPattern(Enum):\n",
        "    \"\"\"Enumeration defining bayer CFA patterns, e.g. RGGB, GRBG, ...\n",
        "       The start pixel defines the enum value. Therefore retrieving the pattern is possible by using\n",
        "       BayerPattern(BayerPixel.value)\n",
        "    \"\"\"\n",
        "    RGGB = (BayerPixel.R, BayerPixel.Gr, BayerPixel.Gb, BayerPixel.B)\n",
        "    GRBG = (BayerPixel.Gr, BayerPixel.R, BayerPixel.B, BayerPixel.Gb)\n",
        "    GBRG = (BayerPixel.Gb, BayerPixel.B, BayerPixel.R, BayerPixel.Gr)\n",
        "    BGGR = (BayerPixel.B, BayerPixel.Gb, BayerPixel.Gr, BayerPixel.R)\n",
        "    \n",
        "    def __init__(\n",
        "        self, \n",
        "        p0:CfaPattern, \n",
        "        p1:CfaPattern, \n",
        "        p2:CfaPattern, \n",
        "        p3:CfaPattern\n",
        "    ):\n",
        "        \"\"\"\n",
        "        Args:\n",
        "            p0 (CfaPattern): First bayer pixel at position [0,0].\n",
        "            p1 (CfaPattern): Second bayer pixel at position [0,1].\n",
        "            p2 (CfaPattern): Third bayer pixel at position [1,0].\n",
        "            p3 (CfaPattern): Fourth bayer pixel at position [1,1].\n",
        "        \"\"\"\n",
        "        self._value_ = p0.value\n",
        "        self._start_pixel:BayerPixel = p0\n",
        "        self._list_pixel = [p0, p1, p2, p3]\n",
        "        self._map_pixel_to_index = dict( (p,i) for i, p in enumerate(self._list_pixel))\n",
        "    \n",
        "    @property\n",
        "    def start_pixel(self) -> BayerPixel:\n",
        "        return self._start_pixel\n",
        "    \n",
        "    def get_pixel_index(self, pixel:BayerPixel) -> int:\n",
        "        return self._map_pixel_to_index[pixel]\n",
        "\n",
        "\n",
        "    \n",
        "\n"
      ],
      "metadata": {
        "id": "iQZBZzrSU2eP"
      },
      "execution_count": 6,
      "outputs": []
    },
    {
      "cell_type": "markdown",
      "source": [
        "Sample for retrieving the startpixel"
      ],
      "metadata": {
        "id": "JhZnL5rId8oL"
      }
    },
    {
      "cell_type": "code",
      "source": [
        "BayerPattern.BGGR.start_pixel"
      ],
      "metadata": {
        "colab": {
          "base_uri": "https://localhost:8080/"
        },
        "id": "4xyLYiWhjzMN",
        "outputId": "a08fae5b-4b76-4bdf-99ba-1c685d9c9452"
      },
      "execution_count": 7,
      "outputs": [
        {
          "output_type": "execute_result",
          "data": {
            "text/plain": [
              "<BayerPixel.B: 3>"
            ]
          },
          "metadata": {},
          "execution_count": 7
        }
      ]
    },
    {
      "cell_type": "markdown",
      "source": [
        "Printing the position of each pixel within the Bayer pattern.\n",
        "Position of indices within the Bayer pattern is as following:\n",
        "\n",
        "|||\n",
        "|-|-|\n",
        "|0|1|\n",
        "|2|3|"
      ],
      "metadata": {
        "id": "E74z1cu8eBd9"
      }
    },
    {
      "cell_type": "code",
      "source": [
        "import numpy as np\n",
        "import pandas as pd\n",
        "\n",
        "for pattern in BayerPattern:\n",
        "    print(f\"pattern: '{pattern.name}'\\n{15*'-'}\")\n",
        "    array_pixel = [None]*4\n",
        "    for pixel in BayerPixel:\n",
        "        array_pixel[pattern.get_pixel_index(pixel)] = pixel.name\n",
        "        print(f\"{pixel.name:2} at index '{pattern.get_pixel_index(pixel)}'\")\n",
        "    df = pd.DataFrame(np.array(array_pixel).reshape(2,2))\n",
        "    print(f\"{15*'-'}\\n{df.to_string(index=False, header=False)}\\n{15*'='}\")"
      ],
      "metadata": {
        "colab": {
          "base_uri": "https://localhost:8080/"
        },
        "id": "AUT9MWcKkSgJ",
        "outputId": "546b3212-8935-4830-e71e-3b462f780095"
      },
      "execution_count": 55,
      "outputs": [
        {
          "output_type": "stream",
          "name": "stdout",
          "text": [
            "pattern: 'RGGB'\n",
            "---------------\n",
            "R  at index '0'\n",
            "Gr at index '1'\n",
            "Gb at index '2'\n",
            "B  at index '3'\n",
            "---------------\n",
            "  R  Gr\n",
            " Gb   B\n",
            "===============\n",
            "pattern: 'GRBG'\n",
            "---------------\n",
            "R  at index '1'\n",
            "Gr at index '0'\n",
            "Gb at index '3'\n",
            "B  at index '2'\n",
            "---------------\n",
            " Gr   R\n",
            "  B  Gb\n",
            "===============\n",
            "pattern: 'GBRG'\n",
            "---------------\n",
            "R  at index '2'\n",
            "Gr at index '3'\n",
            "Gb at index '0'\n",
            "B  at index '1'\n",
            "---------------\n",
            " Gb   B\n",
            "  R  Gr\n",
            "===============\n",
            "pattern: 'BGGR'\n",
            "---------------\n",
            "R  at index '3'\n",
            "Gr at index '2'\n",
            "Gb at index '1'\n",
            "B  at index '0'\n",
            "---------------\n",
            "  B  Gb\n",
            " Gr   R\n",
            "===============\n"
          ]
        }
      ]
    },
    {
      "cell_type": "code",
      "source": [
        ""
      ],
      "metadata": {
        "id": "wyxtMi9QfpVJ"
      },
      "execution_count": 8,
      "outputs": []
    }
  ]
}